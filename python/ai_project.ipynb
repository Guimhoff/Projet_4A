{
  "cells": [
    {
      "cell_type": "markdown",
      "metadata": {
        "id": "XOJjzTzRoCrH"
      },
      "source": [
        "#*AUTHORS : COUTAREL Allan, DEVOUCOUX Maxime*"
      ]
    },
    {
      "cell_type": "markdown",
      "metadata": {
        "id": "9v6KTpSno-PX"
      },
      "source": [
        "## IMPORT OF LIBRARIES AND METHOD DEFINITIONS"
      ]
    },
    {
      "cell_type": "code",
      "execution_count": 1,
      "metadata": {
        "id": "vKSXdeKHoiuT"
      },
      "outputs": [],
      "source": [
        "import numpy as np\n",
        "import pandas as pd\n",
        "import sklearn as sk\n",
        "import random\n",
        "from sklearn import metrics\n",
        "from sklearn.model_selection import train_test_split\n",
        "from sklearn.model_selection import StratifiedKFold\n",
        "from sklearn.model_selection import KFold\n",
        "from sklearn.neighbors import KNeighborsClassifier\n",
        "from sklearn import svm\n",
        "from sklearn.naive_bayes import GaussianNB\n",
        "from sklearn.linear_model import LogisticRegression\n",
        "from sklearn import preprocessing\n",
        "from sklearn.ensemble import IsolationForest\n",
        "from sklearn.preprocessing import StandardScaler\n",
        "from sklearn.preprocessing import LabelEncoder\n",
        "from sklearn.model_selection import cross_validate\n",
        "from sklearn.pipeline import Pipeline\n",
        "\n",
        "from bagging import Bagging\n",
        "from decisionTree import DecisionTree\n",
        "\n",
        "le = LabelEncoder()"
      ]
    },
    {
      "cell_type": "code",
      "execution_count": 2,
      "metadata": {
        "id": "bTVHRveGeM4_"
      },
      "outputs": [],
      "source": [
        "def getKNeighborsClassifier(X_train, y_train) :\n",
        "  \"\"\"\n",
        "    KNeighbors Classifier\n",
        "\n",
        "    Parameters\n",
        "    ----------\n",
        "    X_train : dataset\n",
        "      training features\n",
        "    y_train : dataset\n",
        "      training labels\n",
        "    \n",
        "    Returns\n",
        "    -------\n",
        "    sklearn KNeighbors model\n",
        "      Model after training\n",
        "  \"\"\"\n",
        "  model = KNeighborsClassifier()\n",
        "  model.fit(X_train, y_train)\n",
        "  print(\"Accuracy of the model (with training data) :\", model.score(X_train, y_train))\n",
        "  return model"
      ]
    },
    {
      "cell_type": "code",
      "execution_count": 3,
      "metadata": {
        "id": "Zrv1ZOAeP19y"
      },
      "outputs": [],
      "source": [
        "def getSVClassifier(X_train, y_train):\n",
        "  \"\"\"\n",
        "    Support Vector Classifier\n",
        "\n",
        "    Parameters\n",
        "    ----------\n",
        "    X_train : dataset\n",
        "      training features\n",
        "    y_train : dataset\n",
        "      training labels\n",
        "    \n",
        "    Returns\n",
        "    -------\n",
        "    sklearn Support Vector model\n",
        "      Model after training\n",
        "  \"\"\"\n",
        "  model = svm.SVC(kernel='linear')\n",
        "  model.fit(X_train, y_train)\n",
        "  print(\"Accuracy of the model (with training data) :\", model.score(X_train, y_train))\n",
        "  return model"
      ]
    },
    {
      "cell_type": "code",
      "execution_count": 4,
      "metadata": {
        "id": "kTL3VsXzTGS8"
      },
      "outputs": [],
      "source": [
        "def getGaussianNBClassifier(X_train, y_train):\n",
        "  \"\"\"\n",
        "    Gaussian Naive Bayes Classifier\n",
        "\n",
        "    Parameters\n",
        "    ----------\n",
        "    X_train : dataset\n",
        "      training features\n",
        "    y_train : dataset\n",
        "      training labels\n",
        "    \n",
        "    Returns\n",
        "    -------\n",
        "    sklearn Gaussian Naive Bayes model\n",
        "      Model after training\n",
        "  \"\"\"\n",
        "  model = GaussianNB()\n",
        "  model.fit(X_train, y_train)\n",
        "  print(\"Accuracy of the model (with training data) :\", model.score(X_train, y_train))\n",
        "  return model"
      ]
    },
    {
      "cell_type": "code",
      "execution_count": 5,
      "metadata": {
        "id": "zIa9m6i_U5Le"
      },
      "outputs": [],
      "source": [
        "def getLogisticRegressionClassifier(X_train, y_train):\n",
        "  \"\"\"\n",
        "    Logistic Regression\n",
        "\n",
        "    Parameters\n",
        "    ----------\n",
        "    X_train : dataset\n",
        "      training features\n",
        "    y_train : dataset\n",
        "      training labels\n",
        "    \n",
        "    Returns\n",
        "    -------\n",
        "    sklearn Logistic Regression model\n",
        "      Model after training\n",
        "  \"\"\"\n",
        "  model = LogisticRegression()\n",
        "  model.fit(X_train, y_train)\n",
        "  print(\"Accuracy of the model (with training data) :\", model.score(X_train, y_train))\n",
        "  return model"
      ]
    },
    {
      "cell_type": "code",
      "execution_count": 6,
      "metadata": {
        "id": "DofoA5VdRVE6"
      },
      "outputs": [],
      "source": [
        "def evaluateModel(model, X_test, y_test, isBinary):\n",
        "  \"\"\"\n",
        "    Evaluates the model with 5 metrics and returns expected values and predicted values in a dataframe\n",
        "\n",
        "    Parameters\n",
        "    ----------\n",
        "    model : sklearn model\n",
        "      model used to make the predictions\n",
        "    X_test : dataset\n",
        "      testing features\n",
        "    y_test : dataset\n",
        "      testing labels\n",
        "    isBinary : boolean\n",
        "      True for binary classes, False for multi classes\n",
        "\n",
        "    Returns\n",
        "    -------\n",
        "    dataframe\n",
        "      expected values and predicted values in a dataframe\n",
        "  \"\"\"\n",
        "  y_pred = pd.DataFrame(model.predict(X_test))\n",
        "  print(\"Accuracy :\", metrics.accuracy_score(y_test, y_pred))\n",
        "  print(\"Balanced accuracy :\", metrics.balanced_accuracy_score(y_test, y_pred))\n",
        "  print(\"Confusion matrix :\", metrics.confusion_matrix(y_test, y_pred))\n",
        "  if isBinary:\n",
        "    print(\"Precision :\", metrics.precision_score(y_test, y_pred))\n",
        "    print(\"Recall :\", metrics.recall_score(y_test, y_pred))\n",
        "  else:\n",
        "    print(\"Precision :\", metrics.precision_score(y_test, y_pred, average='macro', zero_division=0))\n",
        "    print(\"Recall :\", metrics.recall_score(y_test, y_pred, average='macro', zero_division=0))\n",
        "  return get_Results_Dataframe(y_pred, y_test)"
      ]
    },
    {
      "cell_type": "code",
      "execution_count": 7,
      "metadata": {
        "id": "0fjX3_bfQiHE"
      },
      "outputs": [],
      "source": [
        "def get_Results_Dataframe(predict, y_test):\n",
        "  \"\"\"\n",
        "    Makes a dataframe with the expected values and the predicted values \n",
        "\n",
        "    Parameters\n",
        "      ----------\n",
        "      predict : dataset\n",
        "        predicted values\n",
        "      y_test : dataset\n",
        "        testing labels = expected values\n",
        "    \n",
        "    Returns\n",
        "    -------\n",
        "    dataframe\n",
        "      expected values and predicted values in a dataframe\n",
        "  \"\"\"\n",
        "  predict.set_index(y_test.index, inplace=True)\n",
        "  result = pd.concat([y_test, predict], axis=1)\n",
        "  result.rename({result.columns[0]: 'y_test', result.columns[1]: 'y_pred'}, axis=1, inplace=True)\n",
        "  return result"
      ]
    },
    {
      "cell_type": "code",
      "execution_count": 8,
      "metadata": {
        "id": "x9C8Q4LZgPrM"
      },
      "outputs": [],
      "source": [
        "def printResults(data, nbRowsMin, nbRowsMax):\n",
        "  \"\"\"\n",
        "    Prints the dataframe and the occurrence of dataset elements\n",
        "\n",
        "    Parameters\n",
        "      ----------\n",
        "      data : dataset\n",
        "        dataset to print\n",
        "      nbRowsMin : int\n",
        "        minimum of rows to print\n",
        "      nbRowsMax : int\n",
        "        maximum of rows to print\n",
        "      \n",
        "    Returns\n",
        "    -------\n",
        "  \"\"\"\n",
        "  pd.set_option(\"display.min_rows\", nbRowsMin, \"display.max_rows\", nbRowsMax, \"display.max_columns\", None)\n",
        "  print(data)"
      ]
    },
    {
      "cell_type": "markdown",
      "metadata": {
        "id": "Ma_EhvDSogDj"
      },
      "source": [
        "## H1N1 DATASET"
      ]
    },
    {
      "cell_type": "code",
      "execution_count": 9,
      "metadata": {
        "id": "5WF-KwMlyKLT"
      },
      "outputs": [],
      "source": [
        "\"\"\"\n",
        "H1N1 flu vaccines dataset import\n",
        "\"\"\"\n",
        "X_vaccines = pd.read_csv('https://raw.githubusercontent.com/a-coutarel/Projet-4A-IA/main/vaccines_data/training_set_features.csv')  \n",
        "y_vaccines = pd.read_csv('https://raw.githubusercontent.com/a-coutarel/Projet-4A-IA/main/vaccines_data/training_set_labels.csv')\n",
        "dataset_vaccines = pd.merge(X_vaccines, y_vaccines, on=['respondent_id','respondent_id'])"
      ]
    },
    {
      "cell_type": "code",
      "execution_count": 10,
      "metadata": {
        "colab": {
          "base_uri": "https://localhost:8080/"
        },
        "id": "gdMoKWlpVmAV",
        "outputId": "1a6dea48-ed6a-40b1-8c55-d6e8d3b45405"
      },
      "outputs": [
        {
          "data": {
            "text/plain": [
              "0    21033\n",
              "1     5674\n",
              "Name: h1n1_vaccine, dtype: int64"
            ]
          },
          "execution_count": 10,
          "metadata": {},
          "output_type": "execute_result"
        }
      ],
      "source": [
        "\"\"\"\n",
        "Counts the occurrences of each class\n",
        "\"\"\"\n",
        "y_vaccines['h1n1_vaccine'].value_counts()"
      ]
    },
    {
      "cell_type": "code",
      "execution_count": 11,
      "metadata": {
        "id": "5nkUOydN3soZ"
      },
      "outputs": [],
      "source": [
        "\"\"\"\n",
        "Converts categorical variables into numbers\n",
        "\"\"\"\n",
        "dataset_vaccines['sex'] = le.fit_transform(dataset_vaccines['sex'])\n",
        "dataset_vaccines['race'] = le.fit_transform(dataset_vaccines['race'])\n",
        "dataset_vaccines['age_group'] = le.fit_transform(dataset_vaccines['age_group'])\n",
        "dataset_vaccines['education'] = le.fit_transform(dataset_vaccines['education'])\n",
        "dataset_vaccines['income_poverty'] = le.fit_transform(dataset_vaccines['income_poverty'])\n",
        "dataset_vaccines['marital_status'] = le.fit_transform(dataset_vaccines['marital_status'])\n",
        "dataset_vaccines['rent_or_own'] = le.fit_transform(dataset_vaccines['rent_or_own'])\n",
        "dataset_vaccines['employment_status'] = le.fit_transform(dataset_vaccines['employment_status'])\n",
        "dataset_vaccines['census_msa'] = le.fit_transform(dataset_vaccines['census_msa'])\n",
        "dataset_vaccines['hhs_geo_region'] = le.fit_transform(dataset_vaccines['hhs_geo_region'])\n",
        "dataset_vaccines['employment_industry'] = le.fit_transform(dataset_vaccines['employment_industry'])\n",
        "dataset_vaccines['employment_occupation'] = le.fit_transform(dataset_vaccines['employment_occupation'])\n",
        "\n",
        "\"\"\"\n",
        "Deletes dataset lines which contains missing values (NaN) and splitting features and labels\n",
        "\"\"\"\n",
        "dataset_vaccines = dataset_vaccines.dropna()\n",
        "y_vaccines = dataset_vaccines.pop('h1n1_vaccine')\n",
        "X_vaccines = dataset_vaccines"
      ]
    },
    {
      "cell_type": "code",
      "execution_count": 14,
      "metadata": {
        "colab": {
          "background_save": true,
          "base_uri": "https://localhost:8080/"
        },
        "id": "GkY9BsiXkugF",
        "outputId": "70309dfe-9543-4791-8469-ddb0491f7e28"
      },
      "outputs": [
        {
          "name": "stdout",
          "output_type": "stream",
          "text": [
            "\n",
            "KNN CLASSIFIER :\n",
            "\n",
            "Accuracy of the model (with training data) : 0.8537127141950497\n",
            "Accuracy : 0.808532249873032\n",
            "Balanced accuracy : 0.7019666720770438\n",
            "Confusion matrix : [[1348  116]\n",
            " [ 261  244]]\n",
            "Precision : 0.6777777777777778\n",
            "Recall : 0.48316831683168315\n",
            "\n",
            "SVC CLASSIFIER :\n",
            "\n",
            "Accuracy of the model (with training data) : 0.8422889782102814\n",
            "Accuracy : 0.8481462671406805\n",
            "Balanced accuracy : 0.7655744467889412\n",
            "Confusion matrix : [[1369   95]\n",
            " [ 204  301]]\n",
            "Precision : 0.76010101010101\n",
            "Recall : 0.596039603960396\n",
            "\n",
            "GNB CLASSIFIER :\n",
            "\n",
            "Accuracy of the model (with training data) : 0.7743812143008251\n",
            "Accuracy : 0.7836465210766886\n",
            "Balanced accuracy : 0.7442514743277606\n",
            "Confusion matrix : [[1208  256]\n",
            " [ 170  335]]\n",
            "Precision : 0.5668358714043993\n",
            "Recall : 0.6633663366336634\n",
            "\n",
            "LR CLASSIFIER :\n",
            "\n",
            "Accuracy of the model (with training data) : 0.8416543262111276\n",
            "Accuracy : 0.845606907059421\n",
            "Balanced accuracy : 0.7619210896499486\n",
            "Confusion matrix : [[1367   97]\n",
            " [ 207  298]]\n",
            "Precision : 0.7544303797468355\n",
            "Recall : 0.5900990099009901\n",
            "\n",
            "BAGGING CLASSIFIER :\n",
            "\n"
          ]
        },
        {
          "name": "stderr",
          "output_type": "stream",
          "text": [
            "d:\\Guillaume\\Documents\\Devoirs\\__4A_IE\\Projet_4A\\python\\decisionTree.py:95: RuntimeWarning: invalid value encountered in true_divide\n",
            "  prop = prop / len(partition)\n"
          ]
        },
        {
          "name": "stdout",
          "output_type": "stream",
          "text": [
            "Accuracy : 0.8252920264093448\n",
            "Balanced accuracy : 0.7638255423903046\n",
            "Confusion matrix : [[1303  161]\n",
            " [ 183  322]]\n",
            "Precision : 0.7717586361597129\n",
            "Recall : 0.7638255423903046\n"
          ]
        }
      ],
      "source": [
        "\"\"\"\n",
        "Train/test split and removal of outliers + model training and testing \n",
        "\"\"\"\n",
        "X_train_vaccines, X_test_vaccines, y_train_vaccines, y_test_vaccines = train_test_split(X_vaccines, y_vaccines, test_size=0.3, random_state=42)\n",
        "\n",
        "IF = IsolationForest(random_state=42)\n",
        "IF.fit(X_train_vaccines)\n",
        "y_pred = IF.predict(X_test_vaccines)\n",
        "X_test_vaccines = X_test_vaccines[y_pred != -1]\n",
        "y_test_vaccines = y_test_vaccines[y_pred != -1]\n",
        "\n",
        "scaler = StandardScaler().fit(X_train_vaccines)\n",
        "X_train_vaccines = scaler.transform(X_train_vaccines)\n",
        "X_test_vaccines = scaler.transform(X_test_vaccines)\n",
        "\n",
        "\"\"\"\n",
        "KNN Classifier for H1N1 vaccines\n",
        "\"\"\"\n",
        "print(\"\\nKNN CLASSIFIER :\\n\")\n",
        "KNNmodel = getKNeighborsClassifier(X_train_vaccines, y_train_vaccines)\n",
        "KNN = evaluateModel(KNNmodel, X_test_vaccines, y_test_vaccines, True)\n",
        "#printResults(KNN, 0, 15)\n",
        "\n",
        "\"\"\"\n",
        "SVC Classifier for H1N1 vaccines\n",
        "\"\"\"\n",
        "print(\"\\nSVC CLASSIFIER :\\n\")\n",
        "SVCmodel = getSVClassifier(X_train_vaccines, y_train_vaccines)\n",
        "SVC = evaluateModel(SVCmodel, X_test_vaccines, y_test_vaccines, True)\n",
        "#printResults(SVC, 0, 15)\n",
        "\n",
        "\"\"\"\n",
        "GNB Classifier for H1N1 vaccines\n",
        "\"\"\"\n",
        "print(\"\\nGNB CLASSIFIER :\\n\")\n",
        "GNBmodel = getGaussianNBClassifier(X_train_vaccines, y_train_vaccines)\n",
        "GNB = evaluateModel(GNBmodel, X_test_vaccines, y_test_vaccines, True)\n",
        "#printResults(GNB, 0, 15)\n",
        "\n",
        "\"\"\"\n",
        "LR Classifier for H1N1 vaccines\n",
        "\"\"\"\n",
        "print(\"\\nLR CLASSIFIER :\\n\")\n",
        "LRmodel = getLogisticRegressionClassifier(X_train_vaccines, y_train_vaccines)\n",
        "LR = evaluateModel(LRmodel, X_test_vaccines, y_test_vaccines, True)\n",
        "#printResults(LR, 0, 15)\n",
        "\n",
        "\"\"\"\n",
        "Bagging of decision trees for H1N1 vaccines\n",
        "\"\"\"\n",
        "print(\"\\nBAGGING CLASSIFIER :\\n\")\n",
        "bagging = Bagging(10, .02, 15).fit(X_train_vaccines, y_train_vaccines)\n",
        "bagging = evaluateModel(bagging, X_test_vaccines, y_test_vaccines, False)\n",
        "#printResults(bagging, 0, 15)"
      ]
    },
    {
      "cell_type": "code",
      "execution_count": null,
      "metadata": {
        "colab": {
          "base_uri": "https://localhost:8080/"
        },
        "id": "f0XAOrLaAVoE",
        "outputId": "76d09e07-2b10-456f-f2a0-18164fb0f4bd"
      },
      "outputs": [],
      "source": [
        "\"\"\"\n",
        "KNN Classifier with kfolds for H1N1 vaccines\n",
        "\"\"\"\n",
        "kf = KFold(n_splits=5, shuffle=True, random_state=42)\n",
        "pipe = Pipeline([\n",
        "    ('scaler', StandardScaler()),\n",
        "    ('classifier', KNeighborsClassifier())\n",
        "])\n",
        "scoring = ['accuracy', 'balanced_accuracy', 'precision', 'recall']\n",
        "scores = cross_validate(pipe, X=X_vaccines, y=y_vaccines, cv=kf, scoring=scoring, return_train_score=True)\n",
        "print(\"Accuracy :\", scores['test_accuracy'])\n",
        "print(\"Mean Accuracy :\", scores['test_accuracy'].mean())\n",
        "print(\"Balanced accuracy :\", scores['test_balanced_accuracy'])\n",
        "print(\"Mean Balanced accuracy :\", scores['test_balanced_accuracy'].mean())\n",
        "print(\"Precision :\", scores['test_precision'])\n",
        "print(\"Mean Precision :\", scores['test_precision'].mean())\n",
        "print(\"Recall :\", scores['test_recall'])\n",
        "print(\"Mean Recall :\", scores['test_recall'].mean())"
      ]
    },
    {
      "cell_type": "code",
      "execution_count": null,
      "metadata": {
        "colab": {
          "base_uri": "https://localhost:8080/"
        },
        "id": "L_1HbZDgUGFV",
        "outputId": "08797e46-83cf-4e15-de89-cb1eb6e7da89"
      },
      "outputs": [],
      "source": [
        "\"\"\"\n",
        "SVC Classifier with kfolds for H1N1 vaccines\n",
        "\"\"\"\n",
        "kf = KFold(n_splits=5, shuffle=True, random_state=42)\n",
        "pipe = Pipeline([\n",
        "    ('scaler', StandardScaler()),\n",
        "    ('classifier', svm.SVC(kernel='linear'))\n",
        "])\n",
        "scoring = ['accuracy', 'balanced_accuracy', 'precision', 'recall']\n",
        "scores = cross_validate(pipe, X=X_vaccines, y=y_vaccines, cv=kf, scoring=scoring, return_train_score=True)\n",
        "print(\"Accuracy :\", scores['test_accuracy'])\n",
        "print(\"Mean Accuracy :\", scores['test_accuracy'].mean())\n",
        "print(\"Balanced accuracy :\", scores['test_balanced_accuracy'])\n",
        "print(\"Mean Balanced accuracy :\", scores['test_balanced_accuracy'].mean())\n",
        "print(\"Precision :\", scores['test_precision'])\n",
        "print(\"Mean Precision :\", scores['test_precision'].mean())\n",
        "print(\"Recall :\", scores['test_recall'])\n",
        "print(\"Mean Recall :\", scores['test_recall'].mean())"
      ]
    },
    {
      "cell_type": "code",
      "execution_count": null,
      "metadata": {
        "colab": {
          "base_uri": "https://localhost:8080/"
        },
        "id": "Bs2SSwT3ceY3",
        "outputId": "7372182a-9280-46d8-efed-0fb489055b15"
      },
      "outputs": [],
      "source": [
        "\"\"\"\n",
        "GNB Classifier with kfolds for H1N1 vaccines\n",
        "\"\"\"\n",
        "kf = KFold(n_splits=5, shuffle=True, random_state=42)\n",
        "pipe = Pipeline([\n",
        "    ('scaler', StandardScaler()),\n",
        "    ('classifier', GaussianNB())\n",
        "])\n",
        "scoring = ['accuracy', 'balanced_accuracy', 'precision', 'recall']\n",
        "scores = cross_validate(pipe, X=X_vaccines, y=y_vaccines, cv=kf, scoring=scoring, return_train_score=True)\n",
        "print(\"Accuracy :\", scores['test_accuracy'])\n",
        "print(\"Mean Accuracy :\", scores['test_accuracy'].mean())\n",
        "print(\"Balanced accuracy :\", scores['test_balanced_accuracy'])\n",
        "print(\"Mean Balanced accuracy :\", scores['test_balanced_accuracy'].mean())\n",
        "print(\"Precision :\", scores['test_precision'])\n",
        "print(\"Mean Precision :\", scores['test_precision'].mean())\n",
        "print(\"Recall :\", scores['test_recall'])\n",
        "print(\"Mean Recall :\", scores['test_recall'].mean())"
      ]
    },
    {
      "cell_type": "code",
      "execution_count": null,
      "metadata": {
        "colab": {
          "base_uri": "https://localhost:8080/"
        },
        "id": "iD36MzUWc5_y",
        "outputId": "021e572d-689e-4945-c5e8-7b47603d0647"
      },
      "outputs": [],
      "source": [
        "\"\"\"\n",
        "LR Classifier with kfolds for H1N1 vaccines\n",
        "\"\"\"\n",
        "kf = KFold(n_splits=5, shuffle=True, random_state=42)\n",
        "pipe = Pipeline([\n",
        "    ('scaler', StandardScaler()),\n",
        "    ('classifier', LogisticRegression())\n",
        "])\n",
        "scoring = ['accuracy', 'balanced_accuracy', 'precision', 'recall']\n",
        "scores = cross_validate(pipe, X=X_vaccines, y=y_vaccines, cv=kf, scoring=scoring, return_train_score=True)\n",
        "print(\"Accuracy :\", scores['test_accuracy'])\n",
        "print(\"Mean Accuracy :\", scores['test_accuracy'].mean())\n",
        "print(\"Balanced accuracy :\", scores['test_balanced_accuracy'])\n",
        "print(\"Mean Balanced accuracy :\", scores['test_balanced_accuracy'].mean())\n",
        "print(\"Precision :\", scores['test_precision'])\n",
        "print(\"Mean Precision :\", scores['test_precision'].mean())\n",
        "print(\"Recall :\", scores['test_recall'])\n",
        "print(\"Mean Recall :\", scores['test_recall'].mean())"
      ]
    },
    {
      "cell_type": "code",
      "execution_count": null,
      "metadata": {},
      "outputs": [],
      "source": [
        "\"\"\"\n",
        "Bagging Classifier with kfolds for H1N1 vaccines\n",
        "\"\"\"\n",
        "kf = KFold(n_splits=5, shuffle=True, random_state=42)\n",
        "pipe = Pipeline([\n",
        "    ('scaler', StandardScaler()),\n",
        "    ('classifier', Bagging(10, .02, 15))\n",
        "])\n",
        "scoring = ['accuracy', 'balanced_accuracy', 'precision', 'recall']\n",
        "scores = cross_validate(pipe, X=X_vaccines, y=y_vaccines, cv=kf, scoring=scoring, return_train_score=True)\n",
        "print(\"Accuracy :\", scores['test_accuracy'])\n",
        "print(\"Mean Accuracy :\", scores['test_accuracy'].mean())\n",
        "print(\"Balanced accuracy :\", scores['test_balanced_accuracy'])\n",
        "print(\"Mean Balanced accuracy :\", scores['test_balanced_accuracy'].mean())\n",
        "print(\"Precision :\", scores['test_precision'])\n",
        "print(\"Mean Precision :\", scores['test_precision'].mean())\n",
        "print(\"Recall :\", scores['test_recall'])\n",
        "print(\"Mean Recall :\", scores['test_recall'].mean())"
      ]
    },
    {
      "cell_type": "code",
      "execution_count": null,
      "metadata": {
        "colab": {
          "base_uri": "https://localhost:8080/"
        },
        "id": "DfY6shsFOI_t",
        "outputId": "1518b321-7c17-4ed4-f83c-9bfe83d8eedd"
      },
      "outputs": [],
      "source": [
        "\"\"\"\n",
        "KNN Classifier with Stratified kfolds for H1N1 vaccines\n",
        "\"\"\"\n",
        "skf = StratifiedKFold(n_splits=5, shuffle=True, random_state=42)\n",
        "pipe = Pipeline([\n",
        "    ('scaler', StandardScaler()),\n",
        "    ('classifier', KNeighborsClassifier())\n",
        "])\n",
        "scoring = ['accuracy', 'balanced_accuracy', 'precision', 'recall']\n",
        "scores = cross_validate(pipe, X=X_vaccines, y=y_vaccines, cv=skf, scoring=scoring, return_train_score=True)\n",
        "print(\"Accuracy :\", scores['test_accuracy'])\n",
        "print(\"Mean Accuracy :\", scores['test_accuracy'].mean())\n",
        "print(\"Balanced accuracy :\", scores['test_balanced_accuracy'])\n",
        "print(\"Mean Balanced accuracy :\", scores['test_balanced_accuracy'].mean())\n",
        "print(\"Precision :\", scores['test_precision'])\n",
        "print(\"Mean Precision :\", scores['test_precision'].mean())\n",
        "print(\"Recall :\", scores['test_recall'])\n",
        "print(\"Mean Recall :\", scores['test_recall'].mean())"
      ]
    },
    {
      "cell_type": "code",
      "execution_count": null,
      "metadata": {
        "colab": {
          "base_uri": "https://localhost:8080/"
        },
        "id": "cY5dy8_NdbG_",
        "outputId": "4d7215ff-41f8-491e-93fe-618b6e3c7043"
      },
      "outputs": [],
      "source": [
        "\"\"\"\n",
        "SVC Classifier with Stratified kfolds for H1N1 vaccines\n",
        "\"\"\"\n",
        "skf = StratifiedKFold(n_splits=5, shuffle=True, random_state=42)\n",
        "pipe = Pipeline([\n",
        "    ('scaler', StandardScaler()),\n",
        "    ('classifier', svm.SVC(kernel='linear'))\n",
        "])\n",
        "scoring = ['accuracy', 'balanced_accuracy', 'precision', 'recall']\n",
        "scores = cross_validate(pipe, X=X_vaccines, y=y_vaccines, cv=skf, scoring=scoring, return_train_score=True)\n",
        "print(\"Accuracy :\", scores['test_accuracy'])\n",
        "print(\"Mean Accuracy :\", scores['test_accuracy'].mean())\n",
        "print(\"Balanced accuracy :\", scores['test_balanced_accuracy'])\n",
        "print(\"Mean Balanced accuracy :\", scores['test_balanced_accuracy'].mean())\n",
        "print(\"Precision :\", scores['test_precision'])\n",
        "print(\"Mean Precision :\", scores['test_precision'].mean())\n",
        "print(\"Recall :\", scores['test_recall'])\n",
        "print(\"Mean Recall :\", scores['test_recall'].mean())"
      ]
    },
    {
      "cell_type": "code",
      "execution_count": null,
      "metadata": {
        "colab": {
          "base_uri": "https://localhost:8080/"
        },
        "id": "Hz8_5IwpdrC5",
        "outputId": "431b615e-b770-48d4-d72c-e828f7e8a1be"
      },
      "outputs": [],
      "source": [
        "\"\"\"\n",
        "GNB Classifier with Stratified kfolds for H1N1 vaccines\n",
        "\"\"\"\n",
        "skf = StratifiedKFold(n_splits=5, shuffle=True, random_state=42)\n",
        "pipe = Pipeline([\n",
        "    ('scaler', StandardScaler()),\n",
        "    ('classifier', GaussianNB())\n",
        "])\n",
        "scoring = ['accuracy', 'balanced_accuracy', 'precision', 'recall']\n",
        "scores = cross_validate(pipe, X=X_vaccines, y=y_vaccines, cv=skf, scoring=scoring, return_train_score=True)\n",
        "print(\"Accuracy :\", scores['test_accuracy'])\n",
        "print(\"Mean Accuracy :\", scores['test_accuracy'].mean())\n",
        "print(\"Balanced accuracy :\", scores['test_balanced_accuracy'])\n",
        "print(\"Mean Balanced accuracy :\", scores['test_balanced_accuracy'].mean())\n",
        "print(\"Precision :\", scores['test_precision'])\n",
        "print(\"Mean Precision :\", scores['test_precision'].mean())\n",
        "print(\"Recall :\", scores['test_recall'])\n",
        "print(\"Mean Recall :\", scores['test_recall'].mean())"
      ]
    },
    {
      "cell_type": "code",
      "execution_count": null,
      "metadata": {
        "colab": {
          "base_uri": "https://localhost:8080/"
        },
        "id": "kYUeukoPdq1Q",
        "outputId": "7b07b973-235e-44ef-cd06-35e97e4021bd"
      },
      "outputs": [],
      "source": [
        "\"\"\"\n",
        "LR Classifier with Stratified kfolds for H1N1 vaccines\n",
        "\"\"\"\n",
        "skf = StratifiedKFold(n_splits=5, shuffle=True, random_state=42)\n",
        "pipe = Pipeline([\n",
        "    ('scaler', StandardScaler()),\n",
        "    ('classifier', LogisticRegression())\n",
        "])\n",
        "scoring = ['accuracy', 'balanced_accuracy', 'precision', 'recall']\n",
        "scores = cross_validate(pipe, X=X_vaccines, y=y_vaccines, cv=skf, scoring=scoring, return_train_score=True)\n",
        "print(\"Accuracy :\", scores['test_accuracy'])\n",
        "print(\"Mean Accuracy :\", scores['test_accuracy'].mean())\n",
        "print(\"Balanced accuracy :\", scores['test_balanced_accuracy'])\n",
        "print(\"Mean Balanced accuracy :\", scores['test_balanced_accuracy'].mean())\n",
        "print(\"Precision :\", scores['test_precision'])\n",
        "print(\"Mean Precision :\", scores['test_precision'].mean())\n",
        "print(\"Recall :\", scores['test_recall'])\n",
        "print(\"Mean Recall :\", scores['test_recall'].mean())"
      ]
    },
    {
      "cell_type": "code",
      "execution_count": null,
      "metadata": {},
      "outputs": [],
      "source": [
        "\"\"\"\n",
        "Bagging Classifier with Stratified kfolds for H1N1 vaccines\n",
        "\"\"\"\n",
        "skf = StratifiedKFold(n_splits=5, shuffle=True, random_state=42)\n",
        "pipe = Pipeline([\n",
        "    ('scaler', StandardScaler()),\n",
        "    ('classifier', Bagging(10, .02, 15))\n",
        "])\n",
        "scoring = ['accuracy', 'balanced_accuracy', 'precision', 'recall']\n",
        "scores = cross_validate(pipe, X=X_vaccines, y=y_vaccines, cv=skf, scoring=scoring, return_train_score=True)\n",
        "print(\"Accuracy :\", scores['test_accuracy'])\n",
        "print(\"Mean Accuracy :\", scores['test_accuracy'].mean())\n",
        "print(\"Balanced accuracy :\", scores['test_balanced_accuracy'])\n",
        "print(\"Mean Balanced accuracy :\", scores['test_balanced_accuracy'].mean())\n",
        "print(\"Precision :\", scores['test_precision'])\n",
        "print(\"Mean Precision :\", scores['test_precision'].mean())\n",
        "print(\"Recall :\", scores['test_recall'])\n",
        "print(\"Mean Recall :\", scores['test_recall'].mean())"
      ]
    },
    {
      "cell_type": "markdown",
      "metadata": {
        "id": "Uk5kUdV0oslH"
      },
      "source": [
        "## WATER PUMPS DATASET"
      ]
    },
    {
      "cell_type": "code",
      "execution_count": null,
      "metadata": {
        "id": "BRcgY-3LpBTH"
      },
      "outputs": [],
      "source": [
        "\"\"\"\n",
        "water pumps dataset import\n",
        "\"\"\"\n",
        "X_water_pumps = pd.read_csv('https://raw.githubusercontent.com/a-coutarel/Projet-4A-IA/main/water_pumps_data/training_set_values.csv')  \n",
        "y_water_pumps = pd.read_csv('https://raw.githubusercontent.com/a-coutarel/Projet-4A-IA/main/water_pumps_data/training_set_labels.csv')\n",
        "dataset_water_pumps = pd.merge(X_water_pumps, y_water_pumps, on=['id','id'])"
      ]
    },
    {
      "cell_type": "code",
      "execution_count": null,
      "metadata": {
        "colab": {
          "base_uri": "https://localhost:8080/"
        },
        "id": "rWxa-mhkWUYW",
        "outputId": "077ffa45-3665-444b-ab0e-e2e9eb094710"
      },
      "outputs": [],
      "source": [
        "\"\"\"\n",
        "Counts the occurrences of each class\n",
        "\"\"\"\n",
        "y_water_pumps['status_group'].value_counts()"
      ]
    },
    {
      "cell_type": "code",
      "execution_count": null,
      "metadata": {
        "id": "IEEf6gTDsl1f"
      },
      "outputs": [],
      "source": [
        "\"\"\"\n",
        "Converts categorical variables into numbers\n",
        "\"\"\"\n",
        "dataset_water_pumps['date_recorded'] = le.fit_transform(dataset_water_pumps['date_recorded'])\n",
        "dataset_water_pumps['funder'] = le.fit_transform(dataset_water_pumps['funder'])\n",
        "dataset_water_pumps['installer'] = le.fit_transform(dataset_water_pumps['installer'])\n",
        "dataset_water_pumps['wpt_name'] = le.fit_transform(dataset_water_pumps['wpt_name'])\n",
        "dataset_water_pumps['basin'] = le.fit_transform(dataset_water_pumps['basin'])\n",
        "dataset_water_pumps['subvillage'] = le.fit_transform(dataset_water_pumps['subvillage'])\n",
        "dataset_water_pumps['region'] = le.fit_transform(dataset_water_pumps['region'])\n",
        "dataset_water_pumps['lga'] = le.fit_transform(dataset_water_pumps['lga'])\n",
        "dataset_water_pumps['ward'] = le.fit_transform(dataset_water_pumps['ward'])\n",
        "dataset_water_pumps['public_meeting'] = le.fit_transform(dataset_water_pumps['public_meeting'])\n",
        "dataset_water_pumps['recorded_by'] = le.fit_transform(dataset_water_pumps['recorded_by'])\n",
        "dataset_water_pumps['scheme_management'] = le.fit_transform(dataset_water_pumps['scheme_management'])\n",
        "dataset_water_pumps['scheme_name'] = le.fit_transform(dataset_water_pumps['scheme_name'])\n",
        "dataset_water_pumps['permit'] = le.fit_transform(dataset_water_pumps['permit'])\n",
        "dataset_water_pumps['extraction_type'] = le.fit_transform(dataset_water_pumps['extraction_type'])\n",
        "dataset_water_pumps['extraction_type_group'] = le.fit_transform(dataset_water_pumps['extraction_type_group'])\n",
        "dataset_water_pumps['extraction_type_class'] = le.fit_transform(dataset_water_pumps['extraction_type_class'])\n",
        "dataset_water_pumps['management'] = le.fit_transform(dataset_water_pumps['management'])\n",
        "dataset_water_pumps['management_group'] = le.fit_transform(dataset_water_pumps['management_group'])\n",
        "dataset_water_pumps['payment'] = le.fit_transform(dataset_water_pumps['payment'])\n",
        "dataset_water_pumps['payment_type'] = le.fit_transform(dataset_water_pumps['payment_type'])\n",
        "dataset_water_pumps['water_quality'] = le.fit_transform(dataset_water_pumps['water_quality'])\n",
        "dataset_water_pumps['quality_group'] = le.fit_transform(dataset_water_pumps['quality_group'])\n",
        "dataset_water_pumps['quantity'] = le.fit_transform(dataset_water_pumps['quantity'])\n",
        "dataset_water_pumps['quantity_group'] = le.fit_transform(dataset_water_pumps['quantity_group'])\n",
        "dataset_water_pumps['source'] = le.fit_transform(dataset_water_pumps['source'])\n",
        "dataset_water_pumps['source_type'] = le.fit_transform(dataset_water_pumps['source_type'])\n",
        "dataset_water_pumps['source_class'] = le.fit_transform(dataset_water_pumps['source_class'])\n",
        "dataset_water_pumps['waterpoint_type'] = le.fit_transform(dataset_water_pumps['waterpoint_type'])\n",
        "dataset_water_pumps['waterpoint_type_group'] = le.fit_transform(dataset_water_pumps['waterpoint_type_group'])\n",
        "dataset_water_pumps['status_group'] = le.fit_transform(dataset_water_pumps['status_group'])\n",
        "\n",
        "\"\"\"\n",
        "Deletes dataset lines which contains missing values (NaN) and splitting features and labels\n",
        "\"\"\"\n",
        "dataset_water_pumps = dataset_water_pumps.dropna()\n",
        "y_water_pumps = dataset_water_pumps.pop('status_group')\n",
        "X_water_pumps = dataset_water_pumps"
      ]
    },
    {
      "cell_type": "code",
      "execution_count": null,
      "metadata": {
        "colab": {
          "base_uri": "https://localhost:8080/"
        },
        "id": "6qSFhJyg-xYb",
        "outputId": "18f53f65-f9bc-46d4-957c-f660d1ef5782"
      },
      "outputs": [],
      "source": [
        "\"\"\"\n",
        "Train/test split and removal of outliers + model training and testing \n",
        "\"\"\"\n",
        "X_train_wp, X_test_wp, y_train_wp, y_test_wp = train_test_split(X_water_pumps, y_water_pumps, test_size=0.3, random_state=42)\n",
        "\n",
        "IF = IsolationForest(random_state=42)\n",
        "IF.fit(X_train_wp)\n",
        "y_pred = IF.predict(X_test_wp)\n",
        "X_test_wp = X_test_wp[y_pred != -1]\n",
        "y_test_wp = y_test_wp[y_pred != -1]\n",
        "\n",
        "scaler = StandardScaler().fit(X_train_wp)\n",
        "X_train_wp = scaler.transform(X_train_wp)\n",
        "X_test_wp = scaler.transform(X_test_wp)\n",
        "\n",
        "\n",
        "\"\"\"\n",
        "KNN Classifier for water pumps\n",
        "\"\"\"\n",
        "print(\"\\nKNN CLASSIFIER :\\n\")\n",
        "KNNmodel = getKNeighborsClassifier(X_train_wp, y_train_wp)\n",
        "KNN = evaluateModel(KNNmodel, X_test_wp, y_test_wp, False)\n",
        "#printResults(KNN, 0, 15)\n",
        "\n",
        "\"\"\"\n",
        "SVC Classifier for water pumps\n",
        "\"\"\"\n",
        "print(\"\\nSVC CLASSIFIER :\\n\")\n",
        "X_train_subset = X_train_wp[:int(X_train_wp.shape[0]*0.5),:]\n",
        "y_train_subset = y_train_wp[:int(y_train_wp.shape[0]*0.5)]\n",
        "SVCmodel = getSVClassifier(X_train_subset, y_train_subset)\n",
        "SVC = evaluateModel(SVCmodel, X_test_wp, y_test_wp, False)\n",
        "#printResults(SVC, 0, 15)\n",
        "\n",
        "\"\"\"\n",
        "GNB Classifier for water pumps\n",
        "\"\"\"\n",
        "print(\"\\nGNB CLASSIFIER :\\n\")\n",
        "GNBmodel = getGaussianNBClassifier(X_train_wp, y_train_wp)\n",
        "GNB = evaluateModel(GNBmodel, X_test_wp, y_test_wp, False)\n",
        "#printResults(GNB, 0, 15)\n",
        "\n",
        "\"\"\"\n",
        "LR Classifier for water pumps\n",
        "\"\"\"\n",
        "print(\"\\nLR CLASSIFIER :\\n\")\n",
        "LRmodel = getLogisticRegressionClassifier(X_train_wp, y_train_wp)\n",
        "LR = evaluateModel(LRmodel, X_test_wp, y_test_wp, False)\n",
        "#printResults(LR, 0, 15)\n",
        "\n",
        "\"\"\"\n",
        "Bagging of decision trees for water pumps\n",
        "\"\"\"\n",
        "print(\"\\nBAGGING CLASSIFIER :\\n\")\n",
        "bagging = Bagging(10, .01, 15).fit(X_train_wp, y_train_wp)\n",
        "bagging = evaluateModel(bagging, X_test_wp, y_test_wp, False)\n",
        "#printResults(bagging, 0, 15)"
      ]
    },
    {
      "cell_type": "code",
      "execution_count": null,
      "metadata": {
        "colab": {
          "base_uri": "https://localhost:8080/"
        },
        "id": "26T-5F2iY_d_",
        "outputId": "ff3c4980-fdbd-46d6-9adf-c549f7bdb3cb"
      },
      "outputs": [],
      "source": [
        "\"\"\"\n",
        "KNN Classifier with kfolds for water pumps\n",
        "\"\"\"\n",
        "kf = KFold(n_splits=3, shuffle=True, random_state=42)\n",
        "pipe = Pipeline([\n",
        "    ('scaler', StandardScaler()),\n",
        "    ('classifier', KNeighborsClassifier())\n",
        "])\n",
        "scoring = ['accuracy', 'balanced_accuracy', 'precision_micro', 'recall_micro']\n",
        "scores = cross_validate(pipe, X=X_water_pumps, y=y_water_pumps, cv=kf, scoring=scoring, return_train_score=True)\n",
        "print(\"Accuracy :\", scores['test_accuracy'])\n",
        "print(\"Mean Accuracy :\", scores['test_accuracy'].mean())\n",
        "print(\"Balanced accuracy :\", scores['test_balanced_accuracy'])\n",
        "print(\"Mean Balanced accuracy :\", scores['test_balanced_accuracy'].mean())\n",
        "print(\"Precision :\", scores['test_precision_micro'])\n",
        "print(\"Mean Precision :\", scores['test_precision_micro'].mean())\n",
        "print(\"Recall :\", scores['test_recall_micro'])\n",
        "print(\"Mean Recall :\", scores['test_recall_micro'].mean())"
      ]
    },
    {
      "cell_type": "code",
      "execution_count": null,
      "metadata": {
        "colab": {
          "base_uri": "https://localhost:8080/"
        },
        "id": "FJYqju6OuiOw",
        "outputId": "04bb36ad-1cb0-4618-dbeb-0869055cfc73"
      },
      "outputs": [],
      "source": [
        "\"\"\"\n",
        "SVC Classifier with kfolds for water pumps\n",
        "\"\"\"\n",
        "kf = KFold(n_splits=3, shuffle=True, random_state=42)\n",
        "pipe = Pipeline([\n",
        "    ('scaler', StandardScaler()),\n",
        "    ('classifier', svm.SVC(kernel='linear'))\n",
        "])\n",
        "scoring = ['accuracy', 'balanced_accuracy', 'precision_micro', 'recall_micro']\n",
        "random_sample = random.sample(range(X_water_pumps.shape[0]), int(X_water_pumps.shape[0]*0.5))\n",
        "X_subset = X_water_pumps.iloc[random_sample]\n",
        "y_subset = y_water_pumps.iloc[random_sample]\n",
        "scores = cross_validate(pipe, X=X_subset, y=y_subset, cv=kf, scoring=scoring, return_train_score=True)\n",
        "print(\"Accuracy :\", scores['test_accuracy'])\n",
        "print(\"Mean Accuracy :\", scores['test_accuracy'].mean())\n",
        "print(\"Balanced accuracy :\", scores['test_balanced_accuracy'])\n",
        "print(\"Mean Balanced accuracy :\", scores['test_balanced_accuracy'].mean())\n",
        "print(\"Precision :\", scores['test_precision_micro'])\n",
        "print(\"Mean Precision :\", scores['test_precision_micro'].mean())\n",
        "print(\"Recall :\", scores['test_recall_micro'])\n",
        "print(\"Mean Recall :\", scores['test_recall_micro'].mean())"
      ]
    },
    {
      "cell_type": "code",
      "execution_count": null,
      "metadata": {
        "colab": {
          "base_uri": "https://localhost:8080/"
        },
        "id": "ZRmYkXjVwBDc",
        "outputId": "b5ff2edc-cd5a-46ca-8f72-3fcbe97af3a6"
      },
      "outputs": [],
      "source": [
        "\"\"\"\n",
        "GNB Classifier with kfolds for water pumps\n",
        "\"\"\"\n",
        "kf = KFold(n_splits=3, shuffle=True, random_state=42)\n",
        "pipe = Pipeline([\n",
        "    ('scaler', StandardScaler()),\n",
        "    ('classifier', GaussianNB())\n",
        "])\n",
        "scoring = ['accuracy', 'balanced_accuracy', 'precision_micro', 'recall_micro']\n",
        "scores = cross_validate(pipe, X=X_water_pumps, y=y_water_pumps, cv=kf, scoring=scoring, return_train_score=True)\n",
        "print(\"Accuracy :\", scores['test_accuracy'])\n",
        "print(\"Mean Accuracy :\", scores['test_accuracy'].mean())\n",
        "print(\"Balanced accuracy :\", scores['test_balanced_accuracy'])\n",
        "print(\"Mean Balanced accuracy :\", scores['test_balanced_accuracy'].mean())\n",
        "print(\"Precision :\", scores['test_precision_micro'])\n",
        "print(\"Mean Precision :\", scores['test_precision_micro'].mean())\n",
        "print(\"Recall :\", scores['test_recall_micro'])\n",
        "print(\"Mean Recall :\", scores['test_recall_micro'].mean())"
      ]
    },
    {
      "cell_type": "code",
      "execution_count": null,
      "metadata": {
        "colab": {
          "base_uri": "https://localhost:8080/"
        },
        "id": "SoK70AJ3wxWp",
        "outputId": "d4b8c809-86e5-4868-da2c-9222b01eb054"
      },
      "outputs": [],
      "source": [
        "\"\"\"\n",
        "LR Classifier with kfolds for water pumps\n",
        "\"\"\"\n",
        "kf = KFold(n_splits=3, shuffle=True, random_state=42)\n",
        "pipe = Pipeline([\n",
        "    ('scaler', StandardScaler()),\n",
        "    ('classifier', LogisticRegression())\n",
        "])\n",
        "scoring = ['accuracy', 'balanced_accuracy', 'precision_micro', 'recall_micro']\n",
        "scores = cross_validate(pipe, X=X_water_pumps, y=y_water_pumps, cv=kf, scoring=scoring, return_train_score=True)\n",
        "print(\"Accuracy :\", scores['test_accuracy'])\n",
        "print(\"Mean Accuracy :\", scores['test_accuracy'].mean())\n",
        "print(\"Balanced accuracy :\", scores['test_balanced_accuracy'])\n",
        "print(\"Mean Balanced accuracy :\", scores['test_balanced_accuracy'].mean())\n",
        "print(\"Precision :\", scores['test_precision_micro'])\n",
        "print(\"Mean Precision :\", scores['test_precision_micro'].mean())\n",
        "print(\"Recall :\", scores['test_recall_micro'])\n",
        "print(\"Mean Recall :\", scores['test_recall_micro'].mean())"
      ]
    },
    {
      "cell_type": "code",
      "execution_count": null,
      "metadata": {},
      "outputs": [],
      "source": [
        "\"\"\"\n",
        "Bagging Classifier with kfolds for water pumps\n",
        "\"\"\"\n",
        "kf = KFold(n_splits=3, shuffle=True, random_state=42)\n",
        "pipe = Pipeline([\n",
        "    ('scaler', StandardScaler()),\n",
        "    ('classifier', Bagging(10, .01, 15))\n",
        "])\n",
        "scoring = ['accuracy', 'balanced_accuracy', 'precision_micro', 'recall_micro']\n",
        "scores = cross_validate(pipe, X=X_water_pumps, y=y_water_pumps, cv=kf, scoring=scoring, return_train_score=True)\n",
        "print(\"Accuracy :\", scores['test_accuracy'])\n",
        "print(\"Mean Accuracy :\", scores['test_accuracy'].mean())\n",
        "print(\"Balanced accuracy :\", scores['test_balanced_accuracy'])\n",
        "print(\"Mean Balanced accuracy :\", scores['test_balanced_accuracy'].mean())\n",
        "print(\"Precision :\", scores['test_precision_micro'])\n",
        "print(\"Mean Precision :\", scores['test_precision_micro'].mean())\n",
        "print(\"Recall :\", scores['test_recall_micro'])\n",
        "print(\"Mean Recall :\", scores['test_recall_micro'].mean())"
      ]
    },
    {
      "cell_type": "code",
      "execution_count": null,
      "metadata": {
        "colab": {
          "base_uri": "https://localhost:8080/"
        },
        "id": "Rhpt31p2xClJ",
        "outputId": "41eac44d-cfdc-49bc-d6c6-b9b2023efe1f"
      },
      "outputs": [],
      "source": [
        "\"\"\"\n",
        "KNN Classifier with Stratified kfolds for water pumps\n",
        "\"\"\"\n",
        "skf = StratifiedKFold(n_splits=3, shuffle=True, random_state=42)\n",
        "pipe = Pipeline([\n",
        "    ('scaler', StandardScaler()),\n",
        "    ('classifier', KNeighborsClassifier())\n",
        "])\n",
        "scoring = ['accuracy', 'balanced_accuracy', 'precision_micro', 'recall_micro']\n",
        "scores = cross_validate(pipe, X=X_water_pumps, y=y_water_pumps, cv=skf, scoring=scoring, return_train_score=True)\n",
        "print(\"Accuracy :\", scores['test_accuracy'])\n",
        "print(\"Mean Accuracy :\", scores['test_accuracy'].mean())\n",
        "print(\"Balanced accuracy :\", scores['test_balanced_accuracy'])\n",
        "print(\"Mean Balanced accuracy :\", scores['test_balanced_accuracy'].mean())\n",
        "print(\"Precision :\", scores['test_precision_micro'])\n",
        "print(\"Mean Precision :\", scores['test_precision_micro'].mean())\n",
        "print(\"Recall :\", scores['test_recall_micro'])\n",
        "print(\"Mean Recall :\", scores['test_recall_micro'].mean())"
      ]
    },
    {
      "cell_type": "code",
      "execution_count": null,
      "metadata": {
        "colab": {
          "base_uri": "https://localhost:8080/"
        },
        "id": "3CJZ2hjVydGM",
        "outputId": "23d80150-cfbf-4156-8915-130ca454060c"
      },
      "outputs": [],
      "source": [
        "\"\"\"\n",
        "SVC Classifier with Stratified kfolds for water pumps\n",
        "\"\"\"\n",
        "skf = StratifiedKFold(n_splits=3, shuffle=True, random_state=42)\n",
        "pipe = Pipeline([\n",
        "    ('scaler', StandardScaler()),\n",
        "    ('classifier', svm.SVC(kernel='linear'))\n",
        "])\n",
        "scoring = ['accuracy', 'balanced_accuracy', 'precision_micro', 'recall_micro']\n",
        "random_sample = random.sample(range(X_water_pumps.shape[0]), int(X_water_pumps.shape[0]*0.5))\n",
        "X_subset = X_water_pumps.iloc[random_sample]\n",
        "y_subset = y_water_pumps.iloc[random_sample]\n",
        "scores = cross_validate(pipe, X=X_subset, y=y_subset, cv=skf, scoring=scoring, return_train_score=True)\n",
        "print(\"Accuracy :\", scores['test_accuracy'])\n",
        "print(\"Mean Accuracy :\", scores['test_accuracy'].mean())\n",
        "print(\"Balanced accuracy :\", scores['test_balanced_accuracy'])\n",
        "print(\"Mean Balanced accuracy :\", scores['test_balanced_accuracy'].mean())\n",
        "print(\"Precision :\", scores['test_precision_micro'])\n",
        "print(\"Mean Precision :\", scores['test_precision_micro'].mean())\n",
        "print(\"Recall :\", scores['test_recall_micro'])\n",
        "print(\"Mean Recall :\", scores['test_recall_micro'].mean())"
      ]
    },
    {
      "cell_type": "code",
      "execution_count": null,
      "metadata": {
        "colab": {
          "base_uri": "https://localhost:8080/"
        },
        "id": "SP3rmLNFyrhQ",
        "outputId": "2a0bdc06-5065-433d-e6ec-761f771ae154"
      },
      "outputs": [],
      "source": [
        "\"\"\"\n",
        "GNB Classifier with Stratified kfolds for water pumps \n",
        "\"\"\"\n",
        "skf = StratifiedKFold(n_splits=3, shuffle=True, random_state=42)\n",
        "pipe = Pipeline([\n",
        "    ('scaler', StandardScaler()),\n",
        "    ('classifier', GaussianNB())\n",
        "])\n",
        "scoring = ['accuracy', 'balanced_accuracy', 'precision_micro', 'recall_micro']\n",
        "scores = cross_validate(pipe, X=X_water_pumps, y=y_water_pumps, cv=skf, scoring=scoring, return_train_score=True)\n",
        "print(\"Accuracy :\", scores['test_accuracy'])\n",
        "print(\"Mean Accuracy :\", scores['test_accuracy'].mean())\n",
        "print(\"Balanced accuracy :\", scores['test_balanced_accuracy'])\n",
        "print(\"Mean Balanced accuracy :\", scores['test_balanced_accuracy'].mean())\n",
        "print(\"Precision :\", scores['test_precision_micro'])\n",
        "print(\"Mean Precision :\", scores['test_precision_micro'].mean())\n",
        "print(\"Recall :\", scores['test_recall_micro'])\n",
        "print(\"Mean Recall :\", scores['test_recall_micro'].mean())"
      ]
    },
    {
      "cell_type": "code",
      "execution_count": null,
      "metadata": {
        "colab": {
          "base_uri": "https://localhost:8080/"
        },
        "id": "KaqEL_-sy62D",
        "outputId": "3b83cc86-2df1-4ee9-9c50-4228d9ce3cf7"
      },
      "outputs": [],
      "source": [
        "\"\"\"\n",
        "LR Classifier with Stratified kfolds for water pumps\n",
        "\"\"\"\n",
        "skf = StratifiedKFold(n_splits=3, shuffle=True, random_state=42)\n",
        "pipe = Pipeline([\n",
        "    ('scaler', StandardScaler()),\n",
        "    ('classifier', LogisticRegression())\n",
        "])\n",
        "scoring = ['accuracy', 'balanced_accuracy', 'precision_micro', 'recall_micro']\n",
        "scores = cross_validate(pipe, X=X_water_pumps, y=y_water_pumps, cv=skf, scoring=scoring, return_train_score=True)\n",
        "print(\"Accuracy :\", scores['test_accuracy'])\n",
        "print(\"Mean Accuracy :\", scores['test_accuracy'].mean())\n",
        "print(\"Balanced accuracy :\", scores['test_balanced_accuracy'])\n",
        "print(\"Mean Balanced accuracy :\", scores['test_balanced_accuracy'].mean())\n",
        "print(\"Precision :\", scores['test_precision_micro'])\n",
        "print(\"Mean Precision :\", scores['test_precision_micro'].mean())\n",
        "print(\"Recall :\", scores['test_recall_micro'])\n",
        "print(\"Mean Recall :\", scores['test_recall_micro'].mean())"
      ]
    },
    {
      "cell_type": "code",
      "execution_count": null,
      "metadata": {},
      "outputs": [],
      "source": [
        "\"\"\"\n",
        "Bagging Classifier with Stratified kfolds for water pumps\n",
        "\"\"\"\n",
        "skf = StratifiedKFold(n_splits=3, shuffle=True, random_state=42)\n",
        "pipe = Pipeline([\n",
        "    ('scaler', StandardScaler()),\n",
        "    ('classifier', Bagging(10, .01, 15))\n",
        "])\n",
        "scoring = ['accuracy', 'balanced_accuracy', 'precision_micro', 'recall_micro']\n",
        "scores = cross_validate(pipe, X=X_water_pumps, y=y_water_pumps, cv=skf, scoring=scoring, return_train_score=True)\n",
        "print(\"Accuracy :\", scores['test_accuracy'])\n",
        "print(\"Mean Accuracy :\", scores['test_accuracy'].mean())\n",
        "print(\"Balanced accuracy :\", scores['test_balanced_accuracy'])\n",
        "print(\"Mean Balanced accuracy :\", scores['test_balanced_accuracy'].mean())\n",
        "print(\"Precision :\", scores['test_precision_micro'])\n",
        "print(\"Mean Precision :\", scores['test_precision_micro'].mean())\n",
        "print(\"Recall :\", scores['test_recall_micro'])\n",
        "print(\"Mean Recall :\", scores['test_recall_micro'].mean())"
      ]
    }
  ],
  "metadata": {
    "accelerator": "GPU",
    "colab": {
      "provenance": []
    },
    "gpuClass": "standard",
    "kernelspec": {
      "display_name": "Python 3",
      "name": "python3"
    },
    "language_info": {
      "codemirror_mode": {
        "name": "ipython",
        "version": 3
      },
      "file_extension": ".py",
      "mimetype": "text/x-python",
      "name": "python",
      "nbconvert_exporter": "python",
      "pygments_lexer": "ipython3",
      "version": "3.9.7"
    }
  },
  "nbformat": 4,
  "nbformat_minor": 0
}
